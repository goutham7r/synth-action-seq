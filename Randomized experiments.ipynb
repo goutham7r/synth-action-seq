{
 "cells": [
  {
   "cell_type": "markdown",
   "metadata": {},
   "source": [
    "# Adult Optimality analysis"
   ]
  },
  {
   "cell_type": "code",
   "execution_count": 1,
   "metadata": {},
   "outputs": [],
   "source": [
    "import json, tensorflow as tf\n",
    "from tensorflow.python.keras.backend import set_session"
   ]
  },
  {
   "cell_type": "code",
   "execution_count": 2,
   "metadata": {},
   "outputs": [],
   "source": [
    "sess = tf.Session()"
   ]
  },
  {
   "cell_type": "code",
   "execution_count": 3,
   "metadata": {},
   "outputs": [],
   "source": [
    "set_session(sess)"
   ]
  },
  {
   "cell_type": "code",
   "execution_count": 4,
   "metadata": {},
   "outputs": [
    {
     "name": "stdout",
     "output_type": "stream",
     "text": [
      "[40 15 72 22 43 82 75  7 34 49]\n",
      "[903 512 200 143 806  15  65 199 687 356]\n"
     ]
    }
   ],
   "source": [
    "import numpy as np\n",
    "np.random.seed(2)\n",
    "chosen_success_idx = np.random.randint(0,90,(10))\n",
    "seq_order_idx = np.random.permutation(936)\n",
    "print(chosen_success_idx)\n",
    "print(seq_order_idx[:10])"
   ]
  },
  {
   "cell_type": "code",
   "execution_count": 5,
   "metadata": {},
   "outputs": [
    {
     "name": "stdout",
     "output_type": "stream",
     "text": [
      "90 10\n"
     ]
    }
   ],
   "source": [
    "path = 'results_adult\\\\analysis\\\\adult\\\\result.%d.pruned.json'\n",
    "success = []\n",
    "failed = []\n",
    "\n",
    "for i in range(0,100):\n",
    "    a = json.load(open(path%i))\n",
    "    if len(a['results'])==0:\n",
    "        failed.append(i)\n",
    "    else:\n",
    "        success.append((i,a['results'][0]))\n",
    "print(len(success), len(failed))"
   ]
  },
  {
   "cell_type": "code",
   "execution_count": 6,
   "metadata": {},
   "outputs": [
    {
     "data": {
      "text/plain": [
       "[5, 16, 23, 56, 75, 80, 83, 92, 98, 99]"
      ]
     },
     "execution_count": 6,
     "metadata": {},
     "output_type": "execute_result"
    }
   ],
   "source": [
    "failed"
   ]
  },
  {
   "cell_type": "code",
   "execution_count": 7,
   "metadata": {},
   "outputs": [
    {
     "data": {
      "text/plain": [
       "90"
      ]
     },
     "execution_count": 7,
     "metadata": {},
     "output_type": "execute_result"
    }
   ],
   "source": [
    "len(success)"
   ]
  },
  {
   "cell_type": "code",
   "execution_count": 8,
   "metadata": {},
   "outputs": [
    {
     "data": {
      "text/plain": [
       "numpy.ndarray"
      ]
     },
     "execution_count": 8,
     "metadata": {},
     "output_type": "execute_result"
    }
   ],
   "source": [
    "type(chosen_success_idx)"
   ]
  },
  {
   "cell_type": "code",
   "execution_count": 9,
   "metadata": {},
   "outputs": [],
   "source": [
    "chosen_success = [success[i] for i in chosen_success_idx]"
   ]
  },
  {
   "cell_type": "code",
   "execution_count": 10,
   "metadata": {
    "scrolled": true
   },
   "outputs": [
    {
     "data": {
      "text/plain": [
       "[(43,\n",
       "  {'seq': ['AddEducation', 'ChangeWorkingHours', 'AddEducation'],\n",
       "   'seq_str': 'AddEducation|ChangeWorkingHours|AddEducation',\n",
       "   'p': [1.0239514112472534, 2.1067276000976562, 1.0239514112472534],\n",
       "   'cost': 7.73970890045166,\n",
       "   'l': 3,\n",
       "   'grad_heur': 255,\n",
       "   'vanilla': 41,\n",
       "   'cost_heur': 38}),\n",
       " (17,\n",
       "  {'seq': ['IncreaseCapitalGain', 'AddEducation', 'IncreaseCapitalGain'],\n",
       "   'seq_str': 'IncreaseCapitalGain|AddEducation|IncreaseCapitalGain',\n",
       "   'p': [1.2902129888534546, 1.1189450025558472, 1.2902129888534546],\n",
       "   'cost': 4.932949542999268,\n",
       "   'l': 3,\n",
       "   'grad_heur': 465,\n",
       "   'vanilla': 139,\n",
       "   'cost_heur': 630}),\n",
       " (77,\n",
       "  {'seq': ['AddEducation'],\n",
       "   'seq_str': 'AddEducation',\n",
       "   'p': [1.713195562362671],\n",
       "   'cost': 4.342597961425781,\n",
       "   'l': 1,\n",
       "   'grad_heur': 0,\n",
       "   'vanilla': 0,\n",
       "   'cost_heur': 0}),\n",
       " (25,\n",
       "  {'seq': ['AddEducation'],\n",
       "   'seq_str': 'AddEducation',\n",
       "   'p': [0.19495108723640442],\n",
       "   'cost': 0.49887415766716003,\n",
       "   'l': 1,\n",
       "   'grad_heur': 0,\n",
       "   'vanilla': 0,\n",
       "   'cost_heur': 0}),\n",
       " (46,\n",
       "  {'seq': ['AddEducation'],\n",
       "   'seq_str': 'AddEducation',\n",
       "   'p': [1.8943021297454834],\n",
       "   'cost': 4.809963226318359,\n",
       "   'l': 1,\n",
       "   'grad_heur': 0,\n",
       "   'vanilla': 0,\n",
       "   'cost_heur': 0}),\n",
       " (89,\n",
       "  {'seq': ['AddEducation'],\n",
       "   'seq_str': 'AddEducation',\n",
       "   'p': [0.10388507694005966],\n",
       "   'cost': 0.31491491198539734,\n",
       "   'l': 1,\n",
       "   'grad_heur': 0,\n",
       "   'vanilla': 0,\n",
       "   'cost_heur': 0}),\n",
       " (81,\n",
       "  {'seq': ['AddEducation', 'ChangeWorkingHours', 'AddEducation'],\n",
       "   'seq_str': 'AddEducation|ChangeWorkingHours|AddEducation',\n",
       "   'p': [0.9206239581108093, 0.8487697243690491, 0.9206238985061646],\n",
       "   'cost': 5.670709133148193,\n",
       "   'l': 3,\n",
       "   'grad_heur': 255,\n",
       "   'vanilla': 41,\n",
       "   'cost_heur': 38}),\n",
       " (8,\n",
       "  {'seq': ['AddEducation'],\n",
       "   'seq_str': 'AddEducation',\n",
       "   'p': [0.2570107579231262],\n",
       "   'cost': 0.6568877100944519,\n",
       "   'l': 1,\n",
       "   'grad_heur': 0,\n",
       "   'vanilla': 0,\n",
       "   'cost_heur': 0}),\n",
       " (37,\n",
       "  {'seq': ['AddEducation'],\n",
       "   'seq_str': 'AddEducation',\n",
       "   'p': [1.0162255764007568],\n",
       "   'cost': 2.5639801025390625,\n",
       "   'l': 1,\n",
       "   'grad_heur': 0,\n",
       "   'vanilla': 0,\n",
       "   'cost_heur': 0}),\n",
       " (52,\n",
       "  {'seq': ['AddEducation'],\n",
       "   'seq_str': 'AddEducation',\n",
       "   'p': [0.3442460298538208],\n",
       "   'cost': 0.8793785572052002,\n",
       "   'l': 1,\n",
       "   'grad_heur': 0,\n",
       "   'vanilla': 0,\n",
       "   'cost_heur': 0})]"
      ]
     },
     "execution_count": 10,
     "metadata": {},
     "output_type": "execute_result"
    }
   ],
   "source": [
    "chosen_success"
   ]
  },
  {
   "cell_type": "code",
   "execution_count": 11,
   "metadata": {},
   "outputs": [],
   "source": [
    "import sys"
   ]
  },
  {
   "cell_type": "code",
   "execution_count": 3,
   "metadata": {},
   "outputs": [],
   "source": [
    "from models.adult.model import Adult\n",
    "from models.adult.actions import *\n",
    "all_actions = {\n",
    "    'AddEducation': AddEducation,\n",
    "    'ChangeWorkingHours': ChangeWorkingHours,\n",
    "    'ChangeCapitalLoss': ChangeCapitalLoss,\n",
    "    'Enlist': Enlist,\n",
    "    'IncreaseCapitalGain': IncreaseCapitalGain,\n",
    "    'WaitYears': WaitYears\n",
    "}\n",
    "restore_path, data_path = 'model.h5', 'data.npy'"
   ]
  },
  {
   "cell_type": "code",
   "execution_count": 13,
   "metadata": {},
   "outputs": [],
   "source": [
    "from local_pack.models.loader import load_model, load_env\n",
    "env = load_env('adult', data_path, used_actions=None)\n",
    "model = load_model('adult', restore_path)\n",
    "data, actions, features, target_label = env"
   ]
  },
  {
   "cell_type": "code",
   "execution_count": 14,
   "metadata": {},
   "outputs": [
    {
     "data": {
      "text/plain": [
       "[0.0, 1.0]"
      ]
     },
     "execution_count": 14,
     "metadata": {},
     "output_type": "execute_result"
    }
   ],
   "source": [
    "target_label"
   ]
  },
  {
   "cell_type": "code",
   "execution_count": 15,
   "metadata": {
    "scrolled": true
   },
   "outputs": [
    {
     "name": "stdout",
     "output_type": "stream",
     "text": [
      "936\n",
      "7984\n"
     ]
    }
   ],
   "source": [
    "from local_pack.heuristics.vanilla import VanillaHeuristics\n",
    "Seq_Gen = VanillaHeuristics(actions=actions, max_length=4)\n",
    "Seq_Gen.setup(None)\n",
    "all_seq = Seq_Gen.sequences\n",
    "print(len(all_seq))\n",
    "print(sys.getsizeof(all_seq))"
   ]
  },
  {
   "cell_type": "code",
   "execution_count": 16,
   "metadata": {},
   "outputs": [],
   "source": [
    "model.model = tf.keras.models.load_model('local_pack\\\\models\\\\adult\\\\model.h5', custom_objects=dict(loss_fn=model.loss_fn))\n",
    "model.model._make_predict_function()"
   ]
  },
  {
   "cell_type": "code",
   "execution_count": 17,
   "metadata": {},
   "outputs": [],
   "source": [
    "def softmax(logits):\n",
    "    return np.exp(logits)/np.sum(np.exp(logits))"
   ]
  },
  {
   "cell_type": "code",
   "execution_count": 18,
   "metadata": {},
   "outputs": [],
   "source": [
    "def get_action_seq(seq):\n",
    "    action_seq = [all_actions[a](features) for a in seq]\n",
    "    i = 0\n",
    "    num_params = sum([action.num_params for action in action_seq], 0)\n",
    "    for j, action in enumerate(action_seq):\n",
    "        action_seq[j] = action_seq[j].set_p_selector(i, num_params)\n",
    "        i += action.num_params\n",
    "    return action_seq"
   ]
  },
  {
   "cell_type": "code",
   "execution_count": 40,
   "metadata": {},
   "outputs": [],
   "source": [
    "def apply_sequence(instance, sequence, params):\n",
    "    path = [instance]\n",
    "    cost = 0\n",
    "    for i, action in enumerate(sequence):\n",
    "        path.append(np.array(action.apply(instance=path[-1], p=params, use_tensor=False)))\n",
    "        cost += action.get_cost(path[i].reshape((-1,)), path[i+1].reshape((-1,)), use_tensor=False)\n",
    "    return path[-1], cost"
   ]
  },
  {
   "cell_type": "code",
   "execution_count": 20,
   "metadata": {
    "scrolled": true
   },
   "outputs": [
    {
     "name": "stdout",
     "output_type": "stream",
     "text": [
      "['AddEducation', 'ChangeWorkingHours', 'AddEducation']\n",
      "43\n",
      "Original logits: [[0.69193536 0.30806464]]\n",
      "Final logits: [[0.49941576 0.5005843 ]]\n",
      "Logged cost: 7.73970890045166\n",
      "Calculated cost: 7.755229654170012\n",
      "\n",
      "\n",
      "\n",
      "\n",
      "['IncreaseCapitalGain', 'AddEducation', 'IncreaseCapitalGain']\n",
      "17\n",
      "Original logits: [[0.6002774 0.3997226]]\n",
      "Final logits: [[0.49781796 0.502182  ]]\n",
      "Logged cost: 4.932949542999268\n",
      "Calculated cost: 4.779106742618377\n",
      "\n",
      "\n",
      "\n",
      "\n",
      "['AddEducation']\n",
      "77\n",
      "Original logits: [[0.62774605 0.37225392]]\n",
      "Final logits: [[0.49902445 0.5009755 ]]\n",
      "Logged cost: 4.342597961425781\n",
      "Calculated cost: 4.369259388397899\n",
      "\n",
      "\n",
      "\n",
      "\n",
      "['AddEducation']\n",
      "25\n",
      "Original logits: [[0.51604545 0.48395455]]\n",
      "Final logits: [[0.5000021  0.49999794]]\n",
      "Logged cost: 0.49887415766716003\n",
      "Calculated cost: 0.49719476684338915\n",
      "\n",
      "\n",
      "\n",
      "\n",
      "['AddEducation']\n",
      "46\n",
      "Original logits: [[0.6015993 0.3984007]]\n",
      "Final logits: [[0.49966934 0.5003306 ]]\n",
      "Logged cost: 4.809963226318359\n",
      "Calculated cost: 4.8311456944461035\n",
      "\n",
      "\n",
      "\n",
      "\n",
      "['AddEducation']\n",
      "89\n",
      "Original logits: [[0.50278556 0.4972144 ]]\n",
      "Final logits: [[0.49691573 0.5030843 ]]\n",
      "Logged cost: 0.31491491198539734\n",
      "Calculated cost: 0.2649439782045775\n",
      "\n",
      "\n",
      "\n",
      "\n",
      "['AddEducation', 'ChangeWorkingHours', 'AddEducation']\n",
      "81\n",
      "Original logits: [[0.65847814 0.34152186]]\n",
      "Final logits: [[0.49861628 0.5013837 ]]\n",
      "Logged cost: 5.670709133148193\n",
      "Calculated cost: 5.716084115456858\n",
      "\n",
      "\n",
      "\n",
      "\n",
      "['AddEducation']\n",
      "8\n",
      "Original logits: [[0.51198274 0.4880172 ]]\n",
      "Final logits: [[0.50000745 0.49999255]]\n",
      "Logged cost: 0.6568877100944519\n",
      "Calculated cost: 0.655469049561523\n",
      "\n",
      "\n",
      "\n",
      "\n",
      "['AddEducation']\n",
      "37\n",
      "Original logits: [[0.5370235  0.46297652]]\n",
      "Final logits: [[0.49951717 0.5004828 ]]\n",
      "Logged cost: 2.5639801025390625\n",
      "Calculated cost: 2.591737474673149\n",
      "\n",
      "\n",
      "\n",
      "\n",
      "['AddEducation']\n",
      "52\n",
      "Original logits: [[0.51053846 0.48946154]]\n",
      "Final logits: [[0.5000158 0.4999842]]\n",
      "Logged cost: 0.8793785572052002\n",
      "Calculated cost: 0.8779500898211552\n",
      "\n",
      "\n",
      "\n",
      "\n"
     ]
    }
   ],
   "source": [
    "for i, success_instance in chosen_success:\n",
    "    seq = success_instance['seq']\n",
    "    print(seq)\n",
    "    action_seq = get_action_seq(seq)    \n",
    "    instance = data.data[i].reshape((1,-1))\n",
    "    final_instance, cost = apply_sequence(instance, action_seq, success_instance['p'])\n",
    "    \n",
    "    print(i)\n",
    "    print('Original logits:', softmax(model.predict(instance)))\n",
    "    print('Final logits:', softmax(model.predict(final_instance)))\n",
    "    print('Logged cost:', success_instance['cost'])\n",
    "    print('Calculated cost:', cost)\n",
    "    \n",
    "    print('\\n\\n\\n')\n",
    "    \n",
    "    if i==5:\n",
    "        break"
   ]
  },
  {
   "cell_type": "code",
   "execution_count": 21,
   "metadata": {},
   "outputs": [],
   "source": [
    "from tqdm import tqdm_notebook"
   ]
  },
  {
   "cell_type": "code",
   "execution_count": 68,
   "metadata": {},
   "outputs": [],
   "source": [
    "def random_param_search(instance, seq):\n",
    "    \n",
    "    np.random.seed(5)\n",
    "    \n",
    "    p_min = -P_EXT\n",
    "    p_max = P_EXT\n",
    "    \n",
    "    init_p = []\n",
    "    for action in seq:\n",
    "        init_p.extend(action.init_p)\n",
    "        \n",
    "    init_p = np.array(init_p)\n",
    "    sh = init_p.shape[0]\n",
    "    \n",
    "    results = []\n",
    "    \n",
    "    min_cost = float(\"inf\")\n",
    "    opt_param = None\n",
    "    best_final_inst = None\n",
    "    \n",
    "    for i in range(NUM_P_SEARCH*sh):\n",
    "        rand_p = (np.random.rand(sh)-0.5)*(p_max-p_min) + (p_max+p_min)/2\n",
    "        \n",
    "        final_instance, cost = apply_sequence(instance, seq, rand_p)\n",
    "        \n",
    "        if np.argmax(target_label) == np.argmax(model.predict(np.reshape(final_instance,(1,-1)))):\n",
    "            if cost<min_cost:\n",
    "                opt_param = rand_p\n",
    "                min_cost = cost\n",
    "                best_final_inst = final_instance\n",
    "        \n",
    "    return opt_param, min_cost, best_final_inst"
   ]
  },
  {
   "cell_type": "code",
   "execution_count": 69,
   "metadata": {},
   "outputs": [],
   "source": [
    "def search_successful_instance(instance, orig_seq, orig_param):\n",
    "        \n",
    "    orig_seq = get_action_seq(orig_seq)     \n",
    "    \n",
    "    final_instance, orig_cost = apply_sequence(instance, orig_seq, orig_param)\n",
    "    \n",
    "    search_param, search_cost, search_final_inst = random_param_search(instance, orig_seq)\n",
    "\n",
    "    print('Original softmax:',softmax(model.predict(np.reshape(instance,(1,-1)))))\n",
    "    print('Recalculated softmax:',softmax(model.predict(np.reshape(final_instance,(1,-1)))))\n",
    "    if search_final_inst is None:\n",
    "        print('No Solution found')\n",
    "    else:\n",
    "        print('Best search softmax:',softmax(model.predict(np.reshape(search_final_inst,(1,-1)))))\n",
    "\n",
    "    \n",
    "    return orig_cost, search_cost, search_param"
   ]
  },
  {
   "cell_type": "code",
   "execution_count": 70,
   "metadata": {},
   "outputs": [],
   "source": [
    "def search_unsuccessful_instance(instance, seed):\n",
    "    np.random.seed(seed)    \n",
    "    \n",
    "    min_cost = float('inf')\n",
    "    best_params = None\n",
    "    best_seq = None\n",
    "    for i in tqdm_notebook(range(NUM_SEQ_SAMPLED)):\n",
    "        test_seq = np.random.choice(all_seq)\n",
    "        search_param, search_cost, search_final_inst = random_param_search(instance, test_seq)\n",
    "        if search_final_inst is not None:\n",
    "            print('Found!', test_seq)\n",
    "            if search_cost<min_cost:\n",
    "                best_params = search_param\n",
    "                best_seq = test_seq\n",
    "                min_cost = search_cost\n",
    "    \n",
    "    return best_seq, best_params, min_cost"
   ]
  },
  {
   "cell_type": "code",
   "execution_count": 71,
   "metadata": {},
   "outputs": [
    {
     "data": {
      "text/plain": [
       "936"
      ]
     },
     "execution_count": 71,
     "metadata": {},
     "output_type": "execute_result"
    }
   ],
   "source": [
    "len(all_seq)"
   ]
  },
  {
   "cell_type": "code",
   "execution_count": 72,
   "metadata": {
    "scrolled": true
   },
   "outputs": [
    {
     "name": "stdout",
     "output_type": "stream",
     "text": [
      "2 100 3000\n",
      "5\n"
     ]
    },
    {
     "data": {
      "application/vnd.jupyter.widget-view+json": {
       "model_id": "96e2b69390c64a8f84d08c62e57b967c",
       "version_major": 2,
       "version_minor": 0
      },
      "text/plain": [
       "HBox(children=(IntProgress(value=0, max=1000), HTML(value='')))"
      ]
     },
     "metadata": {},
     "output_type": "display_data"
    },
    {
     "ename": "KeyboardInterrupt",
     "evalue": "",
     "output_type": "error",
     "traceback": [
      "\u001b[1;31m---------------------------------------------------------------------------\u001b[0m",
      "\u001b[1;31mKeyboardInterrupt\u001b[0m                         Traceback (most recent call last)",
      "\u001b[1;32m<ipython-input-72-e61bc5452391>\u001b[0m in \u001b[0;36m<module>\u001b[1;34m\u001b[0m\n\u001b[0;32m      7\u001b[0m     \u001b[0mprint\u001b[0m\u001b[1;33m(\u001b[0m\u001b[0mi\u001b[0m\u001b[1;33m)\u001b[0m\u001b[1;33m\u001b[0m\u001b[0m\n\u001b[0;32m      8\u001b[0m     \u001b[0minstance\u001b[0m \u001b[1;33m=\u001b[0m \u001b[0mdata\u001b[0m\u001b[1;33m.\u001b[0m\u001b[0mdata\u001b[0m\u001b[1;33m[\u001b[0m\u001b[0mi\u001b[0m\u001b[1;33m]\u001b[0m\u001b[1;33m\u001b[0m\u001b[0m\n\u001b[1;32m----> 9\u001b[1;33m     \u001b[0mbest_seq\u001b[0m\u001b[1;33m,\u001b[0m \u001b[0mbest_params\u001b[0m\u001b[1;33m,\u001b[0m \u001b[0mmin_cost\u001b[0m \u001b[1;33m=\u001b[0m \u001b[0msearch_unsuccessful_instance\u001b[0m\u001b[1;33m(\u001b[0m\u001b[0minstance\u001b[0m\u001b[1;33m,\u001b[0m \u001b[0mi\u001b[0m\u001b[1;33m)\u001b[0m\u001b[1;33m\u001b[0m\u001b[0m\n\u001b[0m\u001b[0;32m     10\u001b[0m \u001b[1;33m\u001b[0m\u001b[0m\n\u001b[0;32m     11\u001b[0m \u001b[1;33m\u001b[0m\u001b[0m\n",
      "\u001b[1;32m<ipython-input-70-ebe947cad4b0>\u001b[0m in \u001b[0;36msearch_unsuccessful_instance\u001b[1;34m(instance, seed)\u001b[0m\n\u001b[0;32m      7\u001b[0m     \u001b[1;32mfor\u001b[0m \u001b[0mi\u001b[0m \u001b[1;32min\u001b[0m \u001b[0mtqdm_notebook\u001b[0m\u001b[1;33m(\u001b[0m\u001b[0mrange\u001b[0m\u001b[1;33m(\u001b[0m\u001b[0mNUM_SEQ_SAMPLED\u001b[0m\u001b[1;33m)\u001b[0m\u001b[1;33m)\u001b[0m\u001b[1;33m:\u001b[0m\u001b[1;33m\u001b[0m\u001b[0m\n\u001b[0;32m      8\u001b[0m         \u001b[0mtest_seq\u001b[0m \u001b[1;33m=\u001b[0m \u001b[0mnp\u001b[0m\u001b[1;33m.\u001b[0m\u001b[0mrandom\u001b[0m\u001b[1;33m.\u001b[0m\u001b[0mchoice\u001b[0m\u001b[1;33m(\u001b[0m\u001b[0mall_seq\u001b[0m\u001b[1;33m)\u001b[0m\u001b[1;33m\u001b[0m\u001b[0m\n\u001b[1;32m----> 9\u001b[1;33m         \u001b[0msearch_param\u001b[0m\u001b[1;33m,\u001b[0m \u001b[0msearch_cost\u001b[0m\u001b[1;33m,\u001b[0m \u001b[0msearch_final_inst\u001b[0m \u001b[1;33m=\u001b[0m \u001b[0mrandom_param_search\u001b[0m\u001b[1;33m(\u001b[0m\u001b[0minstance\u001b[0m\u001b[1;33m,\u001b[0m \u001b[0mtest_seq\u001b[0m\u001b[1;33m)\u001b[0m\u001b[1;33m\u001b[0m\u001b[0m\n\u001b[0m\u001b[0;32m     10\u001b[0m         \u001b[1;32mif\u001b[0m \u001b[0msearch_final_inst\u001b[0m \u001b[1;32mis\u001b[0m \u001b[1;32mnot\u001b[0m \u001b[1;32mNone\u001b[0m\u001b[1;33m:\u001b[0m\u001b[1;33m\u001b[0m\u001b[0m\n\u001b[0;32m     11\u001b[0m             \u001b[0mprint\u001b[0m\u001b[1;33m(\u001b[0m\u001b[1;34m'Found!'\u001b[0m\u001b[1;33m,\u001b[0m \u001b[0mtest_seq\u001b[0m\u001b[1;33m)\u001b[0m\u001b[1;33m\u001b[0m\u001b[0m\n",
      "\u001b[1;32m<ipython-input-68-f2f059b8d16e>\u001b[0m in \u001b[0;36mrandom_param_search\u001b[1;34m(instance, seq)\u001b[0m\n\u001b[0;32m     24\u001b[0m         \u001b[0mfinal_instance\u001b[0m\u001b[1;33m,\u001b[0m \u001b[0mcost\u001b[0m \u001b[1;33m=\u001b[0m \u001b[0mapply_sequence\u001b[0m\u001b[1;33m(\u001b[0m\u001b[0minstance\u001b[0m\u001b[1;33m,\u001b[0m \u001b[0mseq\u001b[0m\u001b[1;33m,\u001b[0m \u001b[0mrand_p\u001b[0m\u001b[1;33m)\u001b[0m\u001b[1;33m\u001b[0m\u001b[0m\n\u001b[0;32m     25\u001b[0m \u001b[1;33m\u001b[0m\u001b[0m\n\u001b[1;32m---> 26\u001b[1;33m         \u001b[1;32mif\u001b[0m \u001b[0mnp\u001b[0m\u001b[1;33m.\u001b[0m\u001b[0margmax\u001b[0m\u001b[1;33m(\u001b[0m\u001b[0mtarget_label\u001b[0m\u001b[1;33m)\u001b[0m \u001b[1;33m==\u001b[0m \u001b[0mnp\u001b[0m\u001b[1;33m.\u001b[0m\u001b[0margmax\u001b[0m\u001b[1;33m(\u001b[0m\u001b[0mmodel\u001b[0m\u001b[1;33m.\u001b[0m\u001b[0mpredict\u001b[0m\u001b[1;33m(\u001b[0m\u001b[0mnp\u001b[0m\u001b[1;33m.\u001b[0m\u001b[0mreshape\u001b[0m\u001b[1;33m(\u001b[0m\u001b[0mfinal_instance\u001b[0m\u001b[1;33m,\u001b[0m\u001b[1;33m(\u001b[0m\u001b[1;36m1\u001b[0m\u001b[1;33m,\u001b[0m\u001b[1;33m-\u001b[0m\u001b[1;36m1\u001b[0m\u001b[1;33m)\u001b[0m\u001b[1;33m)\u001b[0m\u001b[1;33m)\u001b[0m\u001b[1;33m)\u001b[0m\u001b[1;33m:\u001b[0m\u001b[1;33m\u001b[0m\u001b[0m\n\u001b[0m\u001b[0;32m     27\u001b[0m             \u001b[1;32mif\u001b[0m \u001b[0mcost\u001b[0m\u001b[1;33m<\u001b[0m\u001b[0mmin_cost\u001b[0m\u001b[1;33m:\u001b[0m\u001b[1;33m\u001b[0m\u001b[0m\n\u001b[0;32m     28\u001b[0m                 \u001b[0mopt_param\u001b[0m \u001b[1;33m=\u001b[0m \u001b[0mrand_p\u001b[0m\u001b[1;33m\u001b[0m\u001b[0m\n",
      "\u001b[1;32m~\\Documents\\min-path-class-change\\local_pack\\models\\adult\\model.py\u001b[0m in \u001b[0;36mpredict\u001b[1;34m(self, inp)\u001b[0m\n\u001b[0;32m     58\u001b[0m \u001b[1;33m\u001b[0m\u001b[0m\n\u001b[0;32m     59\u001b[0m     \u001b[1;32mdef\u001b[0m \u001b[0mpredict\u001b[0m\u001b[1;33m(\u001b[0m\u001b[0mself\u001b[0m\u001b[1;33m,\u001b[0m \u001b[0minp\u001b[0m\u001b[1;33m)\u001b[0m\u001b[1;33m:\u001b[0m\u001b[1;33m\u001b[0m\u001b[0m\n\u001b[1;32m---> 60\u001b[1;33m         \u001b[1;32mreturn\u001b[0m \u001b[0mself\u001b[0m\u001b[1;33m.\u001b[0m\u001b[0mmodel\u001b[0m\u001b[1;33m.\u001b[0m\u001b[0mpredict\u001b[0m\u001b[1;33m(\u001b[0m\u001b[0minp\u001b[0m\u001b[1;33m)\u001b[0m\u001b[1;33m\u001b[0m\u001b[0m\n\u001b[0m\u001b[0;32m     61\u001b[0m \u001b[1;33m\u001b[0m\u001b[0m\n\u001b[0;32m     62\u001b[0m     \u001b[1;32mdef\u001b[0m \u001b[0mevaluate\u001b[0m\u001b[1;33m(\u001b[0m\u001b[0mself\u001b[0m\u001b[1;33m,\u001b[0m \u001b[0mdata\u001b[0m\u001b[1;33m,\u001b[0m \u001b[0mlabels\u001b[0m\u001b[1;33m)\u001b[0m\u001b[1;33m:\u001b[0m\u001b[1;33m\u001b[0m\u001b[0m\n",
      "\u001b[1;32mC:\\ProgramData\\Anaconda3\\lib\\site-packages\\tensorflow\\python\\keras\\engine\\training.py\u001b[0m in \u001b[0;36mpredict\u001b[1;34m(self, x, batch_size, verbose, steps, max_queue_size, workers, use_multiprocessing)\u001b[0m\n\u001b[0;32m   1876\u001b[0m     \u001b[1;32melse\u001b[0m\u001b[1;33m:\u001b[0m\u001b[1;33m\u001b[0m\u001b[0m\n\u001b[0;32m   1877\u001b[0m       return training_arrays.predict_loop(\n\u001b[1;32m-> 1878\u001b[1;33m           self, x, batch_size=batch_size, verbose=verbose, steps=steps)\n\u001b[0m\u001b[0;32m   1879\u001b[0m \u001b[1;33m\u001b[0m\u001b[0m\n\u001b[0;32m   1880\u001b[0m   \u001b[1;32mdef\u001b[0m \u001b[0mtrain_on_batch\u001b[0m\u001b[1;33m(\u001b[0m\u001b[0mself\u001b[0m\u001b[1;33m,\u001b[0m \u001b[0mx\u001b[0m\u001b[1;33m,\u001b[0m \u001b[0my\u001b[0m\u001b[1;33m=\u001b[0m\u001b[1;32mNone\u001b[0m\u001b[1;33m,\u001b[0m \u001b[0msample_weight\u001b[0m\u001b[1;33m=\u001b[0m\u001b[1;32mNone\u001b[0m\u001b[1;33m,\u001b[0m \u001b[0mclass_weight\u001b[0m\u001b[1;33m=\u001b[0m\u001b[1;32mNone\u001b[0m\u001b[1;33m)\u001b[0m\u001b[1;33m:\u001b[0m\u001b[1;33m\u001b[0m\u001b[0m\n",
      "\u001b[1;32mC:\\ProgramData\\Anaconda3\\lib\\site-packages\\tensorflow\\python\\keras\\engine\\training_arrays.py\u001b[0m in \u001b[0;36mpredict_loop\u001b[1;34m(model, inputs, batch_size, verbose, steps)\u001b[0m\n\u001b[0;32m    324\u001b[0m         \u001b[0mins_batch\u001b[0m\u001b[1;33m[\u001b[0m\u001b[0mi\u001b[0m\u001b[1;33m]\u001b[0m \u001b[1;33m=\u001b[0m \u001b[0mins_batch\u001b[0m\u001b[1;33m[\u001b[0m\u001b[0mi\u001b[0m\u001b[1;33m]\u001b[0m\u001b[1;33m.\u001b[0m\u001b[0mtoarray\u001b[0m\u001b[1;33m(\u001b[0m\u001b[1;33m)\u001b[0m\u001b[1;33m\u001b[0m\u001b[0m\n\u001b[0;32m    325\u001b[0m \u001b[1;33m\u001b[0m\u001b[0m\n\u001b[1;32m--> 326\u001b[1;33m       \u001b[0mbatch_outs\u001b[0m \u001b[1;33m=\u001b[0m \u001b[0mf\u001b[0m\u001b[1;33m(\u001b[0m\u001b[0mins_batch\u001b[0m\u001b[1;33m)\u001b[0m\u001b[1;33m\u001b[0m\u001b[0m\n\u001b[0m\u001b[0;32m    327\u001b[0m       \u001b[1;32mif\u001b[0m \u001b[1;32mnot\u001b[0m \u001b[0misinstance\u001b[0m\u001b[1;33m(\u001b[0m\u001b[0mbatch_outs\u001b[0m\u001b[1;33m,\u001b[0m \u001b[0mlist\u001b[0m\u001b[1;33m)\u001b[0m\u001b[1;33m:\u001b[0m\u001b[1;33m\u001b[0m\u001b[0m\n\u001b[0;32m    328\u001b[0m         \u001b[0mbatch_outs\u001b[0m \u001b[1;33m=\u001b[0m \u001b[1;33m[\u001b[0m\u001b[0mbatch_outs\u001b[0m\u001b[1;33m]\u001b[0m\u001b[1;33m\u001b[0m\u001b[0m\n",
      "\u001b[1;32mC:\\ProgramData\\Anaconda3\\lib\\site-packages\\tensorflow\\python\\keras\\backend.py\u001b[0m in \u001b[0;36m__call__\u001b[1;34m(self, inputs)\u001b[0m\n\u001b[0;32m   2984\u001b[0m \u001b[1;33m\u001b[0m\u001b[0m\n\u001b[0;32m   2985\u001b[0m     fetched = self._callable_fn(*array_vals,\n\u001b[1;32m-> 2986\u001b[1;33m                                 run_metadata=self.run_metadata)\n\u001b[0m\u001b[0;32m   2987\u001b[0m     \u001b[0mself\u001b[0m\u001b[1;33m.\u001b[0m\u001b[0m_call_fetch_callbacks\u001b[0m\u001b[1;33m(\u001b[0m\u001b[0mfetched\u001b[0m\u001b[1;33m[\u001b[0m\u001b[1;33m-\u001b[0m\u001b[0mlen\u001b[0m\u001b[1;33m(\u001b[0m\u001b[0mself\u001b[0m\u001b[1;33m.\u001b[0m\u001b[0m_fetches\u001b[0m\u001b[1;33m)\u001b[0m\u001b[1;33m:\u001b[0m\u001b[1;33m]\u001b[0m\u001b[1;33m)\u001b[0m\u001b[1;33m\u001b[0m\u001b[0m\n\u001b[0;32m   2988\u001b[0m     \u001b[1;32mreturn\u001b[0m \u001b[0mfetched\u001b[0m\u001b[1;33m[\u001b[0m\u001b[1;33m:\u001b[0m\u001b[0mlen\u001b[0m\u001b[1;33m(\u001b[0m\u001b[0mself\u001b[0m\u001b[1;33m.\u001b[0m\u001b[0moutputs\u001b[0m\u001b[1;33m)\u001b[0m\u001b[1;33m]\u001b[0m\u001b[1;33m\u001b[0m\u001b[0m\n",
      "\u001b[1;32mC:\\ProgramData\\Anaconda3\\lib\\site-packages\\tensorflow\\python\\client\\session.py\u001b[0m in \u001b[0;36m__call__\u001b[1;34m(self, *args, **kwargs)\u001b[0m\n\u001b[0;32m   1437\u001b[0m           ret = tf_session.TF_SessionRunCallable(\n\u001b[0;32m   1438\u001b[0m               \u001b[0mself\u001b[0m\u001b[1;33m.\u001b[0m\u001b[0m_session\u001b[0m\u001b[1;33m.\u001b[0m\u001b[0m_session\u001b[0m\u001b[1;33m,\u001b[0m \u001b[0mself\u001b[0m\u001b[1;33m.\u001b[0m\u001b[0m_handle\u001b[0m\u001b[1;33m,\u001b[0m \u001b[0margs\u001b[0m\u001b[1;33m,\u001b[0m \u001b[0mstatus\u001b[0m\u001b[1;33m,\u001b[0m\u001b[1;33m\u001b[0m\u001b[0m\n\u001b[1;32m-> 1439\u001b[1;33m               run_metadata_ptr)\n\u001b[0m\u001b[0;32m   1440\u001b[0m         \u001b[1;32mif\u001b[0m \u001b[0mrun_metadata\u001b[0m\u001b[1;33m:\u001b[0m\u001b[1;33m\u001b[0m\u001b[0m\n\u001b[0;32m   1441\u001b[0m           \u001b[0mproto_data\u001b[0m \u001b[1;33m=\u001b[0m \u001b[0mtf_session\u001b[0m\u001b[1;33m.\u001b[0m\u001b[0mTF_GetBuffer\u001b[0m\u001b[1;33m(\u001b[0m\u001b[0mrun_metadata_ptr\u001b[0m\u001b[1;33m)\u001b[0m\u001b[1;33m\u001b[0m\u001b[0m\n",
      "\u001b[1;31mKeyboardInterrupt\u001b[0m: "
     ]
    }
   ],
   "source": [
    "P_EXT = 2\n",
    "NUM_P_SEARCH = 3000\n",
    "NUM_SEQ_SAMPLED = 1000\n",
    "\n",
    "print(P_EXT, NUM_SEQ, NUM_P_SEARCH)\n",
    "for i in failed:\n",
    "    print(i)\n",
    "    instance = data.data[i]\n",
    "    best_seq, best_params, min_cost = search_unsuccessful_instance(instance, i)\n",
    "    \n",
    "    \n",
    "    if best_seq is None:\n",
    "        print('No solution found')\n",
    "    else:\n",
    "        print('Sequence:', best_seq, 'Parameters: ', best_params, 'Cost: ', min_cost)\n",
    "    print('\\n\\n\\n')"
   ]
  },
  {
   "cell_type": "code",
   "execution_count": null,
   "metadata": {},
   "outputs": [],
   "source": []
  }
 ],
 "metadata": {
  "kernelspec": {
   "display_name": "Python 3",
   "language": "python",
   "name": "python3"
  },
  "language_info": {
   "codemirror_mode": {
    "name": "ipython",
    "version": 3
   },
   "file_extension": ".py",
   "mimetype": "text/x-python",
   "name": "python",
   "nbconvert_exporter": "python",
   "pygments_lexer": "ipython3",
   "version": "3.6.1"
  }
 },
 "nbformat": 4,
 "nbformat_minor": 2
}
